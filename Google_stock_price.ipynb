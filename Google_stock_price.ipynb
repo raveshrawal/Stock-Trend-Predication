{
  "cells": [
    {
      "cell_type": "code",
      "execution_count": 1,
      "metadata": {
        "colab": {
          "base_uri": "https://localhost:8080/"
        },
        "id": "g332IgMRVxyM",
        "outputId": "372d8029-f933-4042-d0c7-8e84ee76a16d"
      },
      "outputs": [
        {
          "name": "stdout",
          "output_type": "stream",
          "text": [
            "Requirement already satisfied: keras in c:\\users\\adimo\\appdata\\local\\programs\\python\\python311\\lib\\site-packages (2.15.0)\n",
            "Note: you may need to restart the kernel to use updated packages.\n"
          ]
        },
        {
          "name": "stderr",
          "output_type": "stream",
          "text": [
            "\n",
            "[notice] A new release of pip is available: 25.1 -> 25.1.1\n",
            "[notice] To update, run: python.exe -m pip install --upgrade pip\n"
          ]
        }
      ],
      "source": [
        "%pip install keras"
      ]
    },
    {
      "cell_type": "code",
      "execution_count": 2,
      "metadata": {
        "colab": {
          "base_uri": "https://localhost:8080/"
        },
        "id": "QuKkIWMVVxyY",
        "outputId": "2d243ae9-c342-4b78-c5d0-d63f2830bbb8"
      },
      "outputs": [
        {
          "name": "stdout",
          "output_type": "stream",
          "text": [
            "Requirement already satisfied: tensorflow in c:\\users\\adimo\\appdata\\local\\programs\\python\\python311\\lib\\site-packages (2.15.0)\n",
            "Requirement already satisfied: tensorflow-intel==2.15.0 in c:\\users\\adimo\\appdata\\local\\programs\\python\\python311\\lib\\site-packages (from tensorflow) (2.15.0)\n",
            "Requirement already satisfied: absl-py>=1.0.0 in c:\\users\\adimo\\appdata\\local\\programs\\python\\python311\\lib\\site-packages (from tensorflow-intel==2.15.0->tensorflow) (2.1.0)\n",
            "Requirement already satisfied: astunparse>=1.6.0 in c:\\users\\adimo\\appdata\\local\\programs\\python\\python311\\lib\\site-packages (from tensorflow-intel==2.15.0->tensorflow) (1.6.3)\n",
            "Requirement already satisfied: flatbuffers>=23.5.26 in c:\\users\\adimo\\appdata\\local\\programs\\python\\python311\\lib\\site-packages (from tensorflow-intel==2.15.0->tensorflow) (23.5.26)\n",
            "Requirement already satisfied: gast!=0.5.0,!=0.5.1,!=0.5.2,>=0.2.1 in c:\\users\\adimo\\appdata\\local\\programs\\python\\python311\\lib\\site-packages (from tensorflow-intel==2.15.0->tensorflow) (0.5.4)\n",
            "Requirement already satisfied: google-pasta>=0.1.1 in c:\\users\\adimo\\appdata\\local\\programs\\python\\python311\\lib\\site-packages (from tensorflow-intel==2.15.0->tensorflow) (0.2.0)\n",
            "Requirement already satisfied: h5py>=2.9.0 in c:\\users\\adimo\\appdata\\local\\programs\\python\\python311\\lib\\site-packages (from tensorflow-intel==2.15.0->tensorflow) (3.10.0)\n",
            "Requirement already satisfied: libclang>=13.0.0 in c:\\users\\adimo\\appdata\\local\\programs\\python\\python311\\lib\\site-packages (from tensorflow-intel==2.15.0->tensorflow) (16.0.6)\n",
            "Requirement already satisfied: ml-dtypes~=0.2.0 in c:\\users\\adimo\\appdata\\local\\programs\\python\\python311\\lib\\site-packages (from tensorflow-intel==2.15.0->tensorflow) (0.2.0)\n",
            "Requirement already satisfied: numpy<2.0.0,>=1.23.5 in c:\\users\\adimo\\appdata\\local\\programs\\python\\python311\\lib\\site-packages (from tensorflow-intel==2.15.0->tensorflow) (1.26.4)\n",
            "Requirement already satisfied: opt-einsum>=2.3.2 in c:\\users\\adimo\\appdata\\local\\programs\\python\\python311\\lib\\site-packages (from tensorflow-intel==2.15.0->tensorflow) (3.3.0)\n",
            "Requirement already satisfied: packaging in c:\\users\\adimo\\appdata\\local\\programs\\python\\python311\\lib\\site-packages (from tensorflow-intel==2.15.0->tensorflow) (23.2)\n",
            "Requirement already satisfied: protobuf!=4.21.0,!=4.21.1,!=4.21.2,!=4.21.3,!=4.21.4,!=4.21.5,<5.0.0dev,>=3.20.3 in c:\\users\\adimo\\appdata\\local\\programs\\python\\python311\\lib\\site-packages (from tensorflow-intel==2.15.0->tensorflow) (4.23.4)\n",
            "Requirement already satisfied: setuptools in c:\\users\\adimo\\appdata\\local\\programs\\python\\python311\\lib\\site-packages (from tensorflow-intel==2.15.0->tensorflow) (80.0.0)\n",
            "Requirement already satisfied: six>=1.12.0 in c:\\users\\adimo\\appdata\\local\\programs\\python\\python311\\lib\\site-packages (from tensorflow-intel==2.15.0->tensorflow) (1.16.0)\n",
            "Requirement already satisfied: termcolor>=1.1.0 in c:\\users\\adimo\\appdata\\local\\programs\\python\\python311\\lib\\site-packages (from tensorflow-intel==2.15.0->tensorflow) (2.4.0)\n",
            "Requirement already satisfied: typing-extensions>=3.6.6 in c:\\users\\adimo\\appdata\\local\\programs\\python\\python311\\lib\\site-packages (from tensorflow-intel==2.15.0->tensorflow) (4.13.2)\n",
            "Requirement already satisfied: wrapt<1.15,>=1.11.0 in c:\\users\\adimo\\appdata\\local\\programs\\python\\python311\\lib\\site-packages (from tensorflow-intel==2.15.0->tensorflow) (1.14.1)\n",
            "Requirement already satisfied: tensorflow-io-gcs-filesystem>=0.23.1 in c:\\users\\adimo\\appdata\\local\\programs\\python\\python311\\lib\\site-packages (from tensorflow-intel==2.15.0->tensorflow) (0.31.0)\n",
            "Requirement already satisfied: grpcio<2.0,>=1.24.3 in c:\\users\\adimo\\appdata\\local\\programs\\python\\python311\\lib\\site-packages (from tensorflow-intel==2.15.0->tensorflow) (1.60.1)\n",
            "Requirement already satisfied: tensorboard<2.16,>=2.15 in c:\\users\\adimo\\appdata\\local\\programs\\python\\python311\\lib\\site-packages (from tensorflow-intel==2.15.0->tensorflow) (2.15.1)\n",
            "Requirement already satisfied: tensorflow-estimator<2.16,>=2.15.0 in c:\\users\\adimo\\appdata\\local\\programs\\python\\python311\\lib\\site-packages (from tensorflow-intel==2.15.0->tensorflow) (2.15.0)\n",
            "Requirement already satisfied: keras<2.16,>=2.15.0 in c:\\users\\adimo\\appdata\\local\\programs\\python\\python311\\lib\\site-packages (from tensorflow-intel==2.15.0->tensorflow) (2.15.0)\n",
            "Requirement already satisfied: google-auth<3,>=1.6.3 in c:\\users\\adimo\\appdata\\local\\programs\\python\\python311\\lib\\site-packages (from tensorboard<2.16,>=2.15->tensorflow-intel==2.15.0->tensorflow) (2.27.0)\n",
            "Requirement already satisfied: google-auth-oauthlib<2,>=0.5 in c:\\users\\adimo\\appdata\\local\\programs\\python\\python311\\lib\\site-packages (from tensorboard<2.16,>=2.15->tensorflow-intel==2.15.0->tensorflow) (1.2.0)\n",
            "Requirement already satisfied: markdown>=2.6.8 in c:\\users\\adimo\\appdata\\local\\programs\\python\\python311\\lib\\site-packages (from tensorboard<2.16,>=2.15->tensorflow-intel==2.15.0->tensorflow) (3.5.2)\n",
            "Requirement already satisfied: requests<3,>=2.21.0 in c:\\users\\adimo\\appdata\\local\\programs\\python\\python311\\lib\\site-packages (from tensorboard<2.16,>=2.15->tensorflow-intel==2.15.0->tensorflow) (2.32.3)\n",
            "Requirement already satisfied: tensorboard-data-server<0.8.0,>=0.7.0 in c:\\users\\adimo\\appdata\\local\\programs\\python\\python311\\lib\\site-packages (from tensorboard<2.16,>=2.15->tensorflow-intel==2.15.0->tensorflow) (0.7.2)\n",
            "Requirement already satisfied: werkzeug>=1.0.1 in c:\\users\\adimo\\appdata\\local\\programs\\python\\python311\\lib\\site-packages (from tensorboard<2.16,>=2.15->tensorflow-intel==2.15.0->tensorflow) (3.0.2)\n",
            "Requirement already satisfied: cachetools<6.0,>=2.0.0 in c:\\users\\adimo\\appdata\\local\\programs\\python\\python311\\lib\\site-packages (from google-auth<3,>=1.6.3->tensorboard<2.16,>=2.15->tensorflow-intel==2.15.0->tensorflow) (5.3.2)\n",
            "Requirement already satisfied: pyasn1-modules>=0.2.1 in c:\\users\\adimo\\appdata\\local\\programs\\python\\python311\\lib\\site-packages (from google-auth<3,>=1.6.3->tensorboard<2.16,>=2.15->tensorflow-intel==2.15.0->tensorflow) (0.3.0)\n",
            "Requirement already satisfied: rsa<5,>=3.1.4 in c:\\users\\adimo\\appdata\\local\\programs\\python\\python311\\lib\\site-packages (from google-auth<3,>=1.6.3->tensorboard<2.16,>=2.15->tensorflow-intel==2.15.0->tensorflow) (4.9)\n",
            "Requirement already satisfied: requests-oauthlib>=0.7.0 in c:\\users\\adimo\\appdata\\local\\programs\\python\\python311\\lib\\site-packages (from google-auth-oauthlib<2,>=0.5->tensorboard<2.16,>=2.15->tensorflow-intel==2.15.0->tensorflow) (1.3.1)\n",
            "Requirement already satisfied: charset-normalizer<4,>=2 in c:\\users\\adimo\\appdata\\local\\programs\\python\\python311\\lib\\site-packages (from requests<3,>=2.21.0->tensorboard<2.16,>=2.15->tensorflow-intel==2.15.0->tensorflow) (3.3.2)\n",
            "Requirement already satisfied: idna<4,>=2.5 in c:\\users\\adimo\\appdata\\local\\programs\\python\\python311\\lib\\site-packages (from requests<3,>=2.21.0->tensorboard<2.16,>=2.15->tensorflow-intel==2.15.0->tensorflow) (3.6)\n",
            "Requirement already satisfied: urllib3<3,>=1.21.1 in c:\\users\\adimo\\appdata\\local\\programs\\python\\python311\\lib\\site-packages (from requests<3,>=2.21.0->tensorboard<2.16,>=2.15->tensorflow-intel==2.15.0->tensorflow) (2.2.0)\n",
            "Requirement already satisfied: certifi>=2017.4.17 in c:\\users\\adimo\\appdata\\local\\programs\\python\\python311\\lib\\site-packages (from requests<3,>=2.21.0->tensorboard<2.16,>=2.15->tensorflow-intel==2.15.0->tensorflow) (2024.2.2)\n",
            "Requirement already satisfied: pyasn1>=0.1.3 in c:\\users\\adimo\\appdata\\local\\programs\\python\\python311\\lib\\site-packages (from rsa<5,>=3.1.4->google-auth<3,>=1.6.3->tensorboard<2.16,>=2.15->tensorflow-intel==2.15.0->tensorflow) (0.5.1)\n",
            "Requirement already satisfied: wheel<1.0,>=0.23.0 in c:\\users\\adimo\\appdata\\local\\programs\\python\\python311\\lib\\site-packages (from astunparse>=1.6.0->tensorflow-intel==2.15.0->tensorflow) (0.45.1)\n",
            "Requirement already satisfied: oauthlib>=3.0.0 in c:\\users\\adimo\\appdata\\local\\programs\\python\\python311\\lib\\site-packages (from requests-oauthlib>=0.7.0->google-auth-oauthlib<2,>=0.5->tensorboard<2.16,>=2.15->tensorflow-intel==2.15.0->tensorflow) (3.2.2)\n",
            "Requirement already satisfied: MarkupSafe>=2.1.1 in c:\\users\\adimo\\appdata\\local\\programs\\python\\python311\\lib\\site-packages (from werkzeug>=1.0.1->tensorboard<2.16,>=2.15->tensorflow-intel==2.15.0->tensorflow) (2.1.5)\n",
            "Note: you may need to restart the kernel to use updated packages.\n"
          ]
        },
        {
          "name": "stderr",
          "output_type": "stream",
          "text": [
            "\n",
            "[notice] A new release of pip is available: 25.1 -> 25.1.1\n",
            "[notice] To update, run: python.exe -m pip install --upgrade pip\n"
          ]
        }
      ],
      "source": [
        "%pip install tensorflow"
      ]
    },
    {
      "cell_type": "code",
      "execution_count": 3,
      "metadata": {
        "colab": {
          "base_uri": "https://localhost:8080/"
        },
        "id": "7GUxDnWrVxyZ",
        "outputId": "76b8a2c6-26bf-4970-f5d6-aa50d921bed8"
      },
      "outputs": [
        {
          "name": "stdout",
          "output_type": "stream",
          "text": [
            "Collecting Sequential\n",
            "  Downloading sequential-1.0.0.tar.gz (2.3 kB)\n",
            "  Preparing metadata (setup.py): started\n",
            "  Preparing metadata (setup.py): finished with status 'done'\n",
            "Building wheels for collected packages: Sequential\n",
            "  Building wheel for Sequential (setup.py): started\n",
            "  Building wheel for Sequential (setup.py): finished with status 'done'\n",
            "  Created wheel for Sequential: filename=sequential-1.0.0-py3-none-any.whl size=2948 sha256=3d5d8cb394ad2df885c6d7aca78eb0343ce4883002f501a430bcdf0319cd45e8\n",
            "  Stored in directory: c:\\users\\adimo\\appdata\\local\\pip\\cache\\wheels\\05\\ac\\b5\\068680e1aff2cfe9e3a77e3233bbfb04c612152e6d02089c47\n",
            "Successfully built Sequential\n",
            "Installing collected packages: Sequential\n",
            "Successfully installed Sequential-1.0.0\n",
            "Note: you may need to restart the kernel to use updated packages.\n"
          ]
        },
        {
          "name": "stderr",
          "output_type": "stream",
          "text": [
            "  DEPRECATION: Building 'Sequential' using the legacy setup.py bdist_wheel mechanism, which will be removed in a future version. pip 25.3 will enforce this behaviour change. A possible replacement is to use the standardized build interface by setting the `--use-pep517` option, (possibly combined with `--no-build-isolation`), or adding a `pyproject.toml` file to the source tree of 'Sequential'. Discussion can be found at https://github.com/pypa/pip/issues/6334\n",
            "\n",
            "[notice] A new release of pip is available: 25.1 -> 25.1.1\n",
            "[notice] To update, run: python.exe -m pip install --upgrade pip\n"
          ]
        }
      ],
      "source": [
        "%pip install Sequential"
      ]
    },
    {
      "cell_type": "code",
      "execution_count": 4,
      "metadata": {
        "id": "jgRHjj1fVxyd"
      },
      "outputs": [
        {
          "name": "stdout",
          "output_type": "stream",
          "text": [
            "WARNING:tensorflow:From c:\\Users\\adimo\\AppData\\Local\\Programs\\Python\\Python311\\Lib\\site-packages\\keras\\src\\losses.py:2976: The name tf.losses.sparse_softmax_cross_entropy is deprecated. Please use tf.compat.v1.losses.sparse_softmax_cross_entropy instead.\n",
            "\n"
          ]
        }
      ],
      "source": [
        "import numpy as np \n",
        "import pandas as pd \n",
        "import matplotlib.pyplot as plt \n",
        "from sklearn.preprocessing import MinMaxScaler\n",
        "from keras.models import Sequential\n",
        "from keras.layers import Dense,LSTM,Dropout"
      ]
    },
    {
      "cell_type": "code",
      "execution_count": 5,
      "metadata": {
        "colab": {
          "base_uri": "https://localhost:8080/",
          "height": 206
        },
        "id": "WJH-2N5QVxyf",
        "outputId": "e8054029-3e57-4237-b89c-6aa27381240b"
      },
      "outputs": [
        {
          "data": {
            "text/html": [
              "<div>\n",
              "<style scoped>\n",
              "    .dataframe tbody tr th:only-of-type {\n",
              "        vertical-align: middle;\n",
              "    }\n",
              "\n",
              "    .dataframe tbody tr th {\n",
              "        vertical-align: top;\n",
              "    }\n",
              "\n",
              "    .dataframe thead th {\n",
              "        text-align: right;\n",
              "    }\n",
              "</style>\n",
              "<table border=\"1\" class=\"dataframe\">\n",
              "  <thead>\n",
              "    <tr style=\"text-align: right;\">\n",
              "      <th></th>\n",
              "      <th>Date</th>\n",
              "      <th>Open</th>\n",
              "      <th>High</th>\n",
              "      <th>Low</th>\n",
              "      <th>Close</th>\n",
              "      <th>Volume</th>\n",
              "    </tr>\n",
              "  </thead>\n",
              "  <tbody>\n",
              "    <tr>\n",
              "      <th>0</th>\n",
              "      <td>1/3/2012</td>\n",
              "      <td>325.25</td>\n",
              "      <td>332.83</td>\n",
              "      <td>324.97</td>\n",
              "      <td>663.59</td>\n",
              "      <td>7,380,500</td>\n",
              "    </tr>\n",
              "    <tr>\n",
              "      <th>1</th>\n",
              "      <td>1/4/2012</td>\n",
              "      <td>331.27</td>\n",
              "      <td>333.87</td>\n",
              "      <td>329.08</td>\n",
              "      <td>666.45</td>\n",
              "      <td>5,749,400</td>\n",
              "    </tr>\n",
              "    <tr>\n",
              "      <th>2</th>\n",
              "      <td>1/5/2012</td>\n",
              "      <td>329.83</td>\n",
              "      <td>330.75</td>\n",
              "      <td>326.89</td>\n",
              "      <td>657.21</td>\n",
              "      <td>6,590,300</td>\n",
              "    </tr>\n",
              "    <tr>\n",
              "      <th>3</th>\n",
              "      <td>1/6/2012</td>\n",
              "      <td>328.34</td>\n",
              "      <td>328.77</td>\n",
              "      <td>323.68</td>\n",
              "      <td>648.24</td>\n",
              "      <td>5,405,900</td>\n",
              "    </tr>\n",
              "    <tr>\n",
              "      <th>4</th>\n",
              "      <td>1/9/2012</td>\n",
              "      <td>322.04</td>\n",
              "      <td>322.29</td>\n",
              "      <td>309.46</td>\n",
              "      <td>620.76</td>\n",
              "      <td>11,688,800</td>\n",
              "    </tr>\n",
              "  </tbody>\n",
              "</table>\n",
              "</div>"
            ],
            "text/plain": [
              "       Date    Open    High     Low   Close      Volume\n",
              "0  1/3/2012  325.25  332.83  324.97  663.59   7,380,500\n",
              "1  1/4/2012  331.27  333.87  329.08  666.45   5,749,400\n",
              "2  1/5/2012  329.83  330.75  326.89  657.21   6,590,300\n",
              "3  1/6/2012  328.34  328.77  323.68  648.24   5,405,900\n",
              "4  1/9/2012  322.04  322.29  309.46  620.76  11,688,800"
            ]
          },
          "execution_count": 5,
          "metadata": {},
          "output_type": "execute_result"
        }
      ],
      "source": [
        "data = pd.read_csv('data\\Google_train_data.csv')\n",
        "data.head()"
      ]
    },
    {
      "cell_type": "code",
      "execution_count": 6,
      "metadata": {
        "colab": {
          "base_uri": "https://localhost:8080/"
        },
        "id": "MHxd9Ji1Vxyg",
        "outputId": "aadcd2f5-47a3-427a-8088-414839519c40"
      },
      "outputs": [
        {
          "name": "stdout",
          "output_type": "stream",
          "text": [
            "<class 'pandas.core.frame.DataFrame'>\n",
            "RangeIndex: 1258 entries, 0 to 1257\n",
            "Data columns (total 6 columns):\n",
            " #   Column  Non-Null Count  Dtype  \n",
            "---  ------  --------------  -----  \n",
            " 0   Date    1258 non-null   object \n",
            " 1   Open    1258 non-null   float64\n",
            " 2   High    1258 non-null   float64\n",
            " 3   Low     1258 non-null   float64\n",
            " 4   Close   1258 non-null   object \n",
            " 5   Volume  1258 non-null   object \n",
            "dtypes: float64(3), object(3)\n",
            "memory usage: 59.1+ KB\n"
          ]
        }
      ],
      "source": [
        "data.info()"
      ]
    },
    {
      "cell_type": "code",
      "execution_count": 7,
      "metadata": {
        "id": "III7n4TrVxyh"
      },
      "outputs": [],
      "source": [
        "data[\"Close\"]=pd.to_numeric(data.Close,errors='coerce')\n",
        "data = data.dropna()\n",
        "trainData = data.iloc[:,4:5].values"
      ]
    },
    {
      "cell_type": "code",
      "execution_count": 8,
      "metadata": {
        "colab": {
          "base_uri": "https://localhost:8080/"
        },
        "id": "-QYZwRPWVxyi",
        "outputId": "36c3f99f-8f31-4bfa-ea8a-9c9aa75e2f97"
      },
      "outputs": [
        {
          "name": "stdout",
          "output_type": "stream",
          "text": [
            "<class 'pandas.core.frame.DataFrame'>\n",
            "Index: 1149 entries, 0 to 1257\n",
            "Data columns (total 6 columns):\n",
            " #   Column  Non-Null Count  Dtype  \n",
            "---  ------  --------------  -----  \n",
            " 0   Date    1149 non-null   object \n",
            " 1   Open    1149 non-null   float64\n",
            " 2   High    1149 non-null   float64\n",
            " 3   Low     1149 non-null   float64\n",
            " 4   Close   1149 non-null   float64\n",
            " 5   Volume  1149 non-null   object \n",
            "dtypes: float64(4), object(2)\n",
            "memory usage: 62.8+ KB\n"
          ]
        }
      ],
      "source": [
        "data.info()"
      ]
    },
    {
      "cell_type": "code",
      "execution_count": 9,
      "metadata": {
        "colab": {
          "base_uri": "https://localhost:8080/"
        },
        "id": "N6nITta0Vxyj",
        "outputId": "a2e2c955-4123-49eb-f976-7eb8bd98db1a"
      },
      "outputs": [
        {
          "data": {
            "text/plain": [
              "(1149, 1)"
            ]
          },
          "execution_count": 9,
          "metadata": {},
          "output_type": "execute_result"
        }
      ],
      "source": [
        "sc = MinMaxScaler(feature_range=(0,1))\n",
        "trainData = sc.fit_transform(trainData)\n",
        "trainData.shape"
      ]
    },
    {
      "cell_type": "code",
      "execution_count": 10,
      "metadata": {
        "id": "GysAk_BUVxyk"
      },
      "outputs": [],
      "source": [
        "X_train = []\n",
        "y_train = []\n",
        "\n",
        "for i in range (60,1149): #60 : timestep // 1149 : length of the data\n",
        "    X_train.append(trainData[i-60:i,0]) \n",
        "    y_train.append(trainData[i,0])\n",
        "\n",
        "X_train,y_train = np.array(X_train),np.array(y_train)"
      ]
    },
    {
      "cell_type": "code",
      "execution_count": 11,
      "metadata": {
        "colab": {
          "base_uri": "https://localhost:8080/"
        },
        "id": "7Kl42Io2Vxyl",
        "outputId": "06872dc2-02cb-49d1-dd02-82186c17f6d4"
      },
      "outputs": [
        {
          "data": {
            "text/plain": [
              "(1089, 60, 1)"
            ]
          },
          "execution_count": 11,
          "metadata": {},
          "output_type": "execute_result"
        }
      ],
      "source": [
        "X_train = np.reshape(X_train,(X_train.shape[0],X_train.shape[1],1)) #adding the batch_size axis\n",
        "X_train.shape"
      ]
    },
    {
      "cell_type": "code",
      "execution_count": 12,
      "metadata": {
        "id": "YZji4f2IVxym"
      },
      "outputs": [
        {
          "name": "stdout",
          "output_type": "stream",
          "text": [
            "WARNING:tensorflow:From c:\\Users\\adimo\\AppData\\Local\\Programs\\Python\\Python311\\Lib\\site-packages\\keras\\src\\backend.py:873: The name tf.get_default_graph is deprecated. Please use tf.compat.v1.get_default_graph instead.\n",
            "\n",
            "WARNING:tensorflow:From c:\\Users\\adimo\\AppData\\Local\\Programs\\Python\\Python311\\Lib\\site-packages\\keras\\src\\optimizers\\__init__.py:309: The name tf.train.Optimizer is deprecated. Please use tf.compat.v1.train.Optimizer instead.\n",
            "\n"
          ]
        }
      ],
      "source": [
        "model = Sequential()\n",
        "\n",
        "model.add(LSTM(units=100, return_sequences = True, input_shape =(X_train.shape[1],1)))\n",
        "model.add(Dropout(0.2))\n",
        "\n",
        "model.add(LSTM(units=100, return_sequences = True))\n",
        "model.add(Dropout(0.2))\n",
        "\n",
        "model.add(LSTM(units=100, return_sequences = True))\n",
        "model.add(Dropout(0.2))\n",
        "\n",
        "model.add(LSTM(units=100, return_sequences = False))\n",
        "model.add(Dropout(0.2))\n",
        "\n",
        "model.add(Dense(units =1))\n",
        "model.compile(optimizer='adam',loss=\"mean_squared_error\")"
      ]
    },
    {
      "cell_type": "code",
      "execution_count": 13,
      "metadata": {
        "colab": {
          "base_uri": "https://localhost:8080/"
        },
        "id": "FfniNxoLVxyn",
        "outputId": "6f11f581-98f5-4273-cd14-c02dcba40407"
      },
      "outputs": [
        {
          "name": "stdout",
          "output_type": "stream",
          "text": [
            "Epoch 1/20\n",
            "WARNING:tensorflow:From c:\\Users\\adimo\\AppData\\Local\\Programs\\Python\\Python311\\Lib\\site-packages\\keras\\src\\utils\\tf_utils.py:492: The name tf.ragged.RaggedTensorValue is deprecated. Please use tf.compat.v1.ragged.RaggedTensorValue instead.\n",
            "\n",
            "35/35 - 15s - loss: 0.0439 - 15s/epoch - 433ms/step\n",
            "Epoch 2/20\n",
            "35/35 - 4s - loss: 0.0126 - 4s/epoch - 128ms/step\n",
            "Epoch 3/20\n",
            "35/35 - 5s - loss: 0.0111 - 5s/epoch - 137ms/step\n",
            "Epoch 4/20\n",
            "35/35 - 5s - loss: 0.0084 - 5s/epoch - 136ms/step\n",
            "Epoch 5/20\n",
            "35/35 - 5s - loss: 0.0076 - 5s/epoch - 131ms/step\n",
            "Epoch 6/20\n",
            "35/35 - 5s - loss: 0.0109 - 5s/epoch - 130ms/step\n",
            "Epoch 7/20\n",
            "35/35 - 6s - loss: 0.0070 - 6s/epoch - 181ms/step\n",
            "Epoch 8/20\n",
            "35/35 - 8s - loss: 0.0061 - 8s/epoch - 230ms/step\n",
            "Epoch 9/20\n",
            "35/35 - 8s - loss: 0.0066 - 8s/epoch - 235ms/step\n",
            "Epoch 10/20\n",
            "35/35 - 8s - loss: 0.0070 - 8s/epoch - 242ms/step\n",
            "Epoch 11/20\n",
            "35/35 - 9s - loss: 0.0064 - 9s/epoch - 251ms/step\n",
            "Epoch 12/20\n",
            "35/35 - 8s - loss: 0.0062 - 8s/epoch - 242ms/step\n",
            "Epoch 13/20\n",
            "35/35 - 9s - loss: 0.0061 - 9s/epoch - 244ms/step\n",
            "Epoch 14/20\n",
            "35/35 - 8s - loss: 0.0079 - 8s/epoch - 242ms/step\n",
            "Epoch 15/20\n",
            "35/35 - 9s - loss: 0.0065 - 9s/epoch - 245ms/step\n",
            "Epoch 16/20\n",
            "35/35 - 9s - loss: 0.0065 - 9s/epoch - 249ms/step\n",
            "Epoch 17/20\n",
            "35/35 - 9s - loss: 0.0053 - 9s/epoch - 250ms/step\n",
            "Epoch 18/20\n",
            "35/35 - 9s - loss: 0.0049 - 9s/epoch - 249ms/step\n",
            "Epoch 19/20\n",
            "35/35 - 8s - loss: 0.0055 - 8s/epoch - 234ms/step\n",
            "Epoch 20/20\n",
            "35/35 - 8s - loss: 0.0049 - 8s/epoch - 228ms/step\n"
          ]
        }
      ],
      "source": [
        "hist = model.fit(X_train, y_train, epochs = 20, batch_size = 32, verbose=2)"
      ]
    },
    {
      "cell_type": "code",
      "execution_count": 14,
      "metadata": {
        "colab": {
          "base_uri": "https://localhost:8080/",
          "height": 472
        },
        "id": "WoSOxWA0Vxyn",
        "outputId": "506a4a88-e857-453c-fc2b-7a21b9b0f0de"
      },
      "outputs": [
        {
          "data": {
            "image/png": "[encoded data removed]",
            "text/plain": [
              "<Figure size 640x480 with 1 Axes>"
            ]
          },
          "metadata": {},
          "output_type": "display_data"
        }
      ],
      "source": [
        "plt.plot(hist.history['loss'])\n",
        "plt.title('Training model loss')\n",
        "plt.ylabel('loss')\n",
        "plt.xlabel('epoch')\n",
        "plt.legend(['train'], loc='upper left')\n",
        "plt.show()"
      ]
    },
    {
      "cell_type": "code",
      "execution_count": 15,
      "metadata": {
        "colab": {
          "base_uri": "https://localhost:8080/"
        },
        "id": "9xmE6P2DVxyo",
        "outputId": "dcbde935-ec47-498f-8df1-2bc9f0c124d4"
      },
      "outputs": [
        {
          "data": {
            "text/plain": [
              "(192, 60, 1)"
            ]
          },
          "execution_count": 15,
          "metadata": {},
          "output_type": "execute_result"
        }
      ],
      "source": [
        "testData = pd.read_csv('data\\Google_test_data.csv')\n",
        "testData[\"Close\"]=pd.to_numeric(testData.Close,errors='coerce')\n",
        "testData = testData.dropna()\n",
        "testData = testData.iloc[:,4:5]\n",
        "y_test = testData.iloc[60:,0:].values \n",
        "#input array for the model\n",
        "inputClosing = testData.iloc[:,0:].values \n",
        "inputClosing_scaled = sc.transform(inputClosing)\n",
        "inputClosing_scaled.shape\n",
        "X_test = []\n",
        "length = len(testData)\n",
        "timestep = 60\n",
        "for i in range(timestep,length):  \n",
        "    X_test.append(inputClosing_scaled[i-timestep:i,0])\n",
        "X_test = np.array(X_test)\n",
        "X_test = np.reshape(X_test,(X_test.shape[0],X_test.shape[1],1))\n",
        "X_test.shape"
      ]
    },
    {
      "cell_type": "code",
      "execution_count": 16,
      "metadata": {
        "colab": {
          "base_uri": "https://localhost:8080/"
        },
        "id": "ZKvzgPc7Vxyp",
        "outputId": "8119b596-47a8-4548-8ab1-37163c32bb76"
      },
      "outputs": [
        {
          "name": "stdout",
          "output_type": "stream",
          "text": [
            "6/6 [==============================] - 4s 94ms/step\n"
          ]
        },
        {
          "data": {
            "text/plain": [
              "array([[1.1770579],\n",
              "       [1.1793264],\n",
              "       [1.1888845],\n",
              "       [1.204202 ],\n",
              "       [1.2185506],\n",
              "       [1.223008 ],\n",
              "       [1.2159054],\n",
              "       [1.2021056],\n",
              "       [1.1905552],\n",
              "       [1.1846862],\n",
              "       [1.177078 ],\n",
              "       [1.1663613],\n",
              "       [1.1560822],\n",
              "       [1.1463335],\n",
              "       [1.1420909],\n",
              "       [1.1437882],\n",
              "       [1.1571232],\n",
              "       [1.1809149],\n",
              "       [1.2107065],\n",
              "       [1.2425044],\n",
              "       [1.2611444],\n",
              "       [1.2655404],\n",
              "       [1.25345  ],\n",
              "       [1.2301383],\n",
              "       [1.2049978],\n",
              "       [1.186422 ],\n",
              "       [1.1769994],\n",
              "       [1.1721938],\n",
              "       [1.1644627],\n",
              "       [1.1543918],\n",
              "       [1.1432337],\n",
              "       [1.1305847],\n",
              "       [1.1126127],\n",
              "       [1.0900685],\n",
              "       [1.0772806],\n",
              "       [1.0802789],\n",
              "       [1.095903 ],\n",
              "       [1.117557 ],\n",
              "       [1.1408329],\n",
              "       [1.156655 ],\n",
              "       [1.1715063],\n",
              "       [1.1874473],\n",
              "       [1.2048712],\n",
              "       [1.2214622],\n",
              "       [1.233973 ],\n",
              "       [1.2385237],\n",
              "       [1.2329222],\n",
              "       [1.2253855],\n",
              "       [1.2212462],\n",
              "       [1.2233897],\n",
              "       [1.2322677],\n",
              "       [1.2400814],\n",
              "       [1.2438908],\n",
              "       [1.2431873],\n",
              "       [1.2423737],\n",
              "       [1.2395816],\n",
              "       [1.2328455],\n",
              "       [1.2282081],\n",
              "       [1.2331741],\n",
              "       [1.2466786],\n",
              "       [1.2684481],\n",
              "       [1.2965627],\n",
              "       [1.3199819],\n",
              "       [1.3300773],\n",
              "       [1.3258266],\n",
              "       [1.3115649],\n",
              "       [1.2981168],\n",
              "       [1.2903359],\n",
              "       [1.289072 ],\n",
              "       [1.2910737],\n",
              "       [1.2947177],\n",
              "       [1.2977583],\n",
              "       [1.29608  ],\n",
              "       [1.2921649],\n",
              "       [1.2880285],\n",
              "       [1.2859929],\n",
              "       [1.286706 ],\n",
              "       [1.2902449],\n",
              "       [1.2995118],\n",
              "       [1.3145711],\n",
              "       [1.3350544],\n",
              "       [1.3564698],\n",
              "       [1.3717597],\n",
              "       [1.3782521],\n",
              "       [1.3835362],\n",
              "       [1.3938713],\n",
              "       [1.408861 ],\n",
              "       [1.423442 ],\n",
              "       [1.4337975],\n",
              "       [1.4385661],\n",
              "       [1.4413167],\n",
              "       [1.4486994],\n",
              "       [1.4623656],\n",
              "       [1.4738561],\n",
              "       [1.4765489],\n",
              "       [1.4686619],\n",
              "       [1.4512314],\n",
              "       [1.428313 ],\n",
              "       [1.4062155],\n",
              "       [1.393392 ],\n",
              "       [1.3926941],\n",
              "       [1.4026769],\n",
              "       [1.4204848],\n",
              "       [1.4394642],\n",
              "       [1.4543265],\n",
              "       [1.4617175],\n",
              "       [1.4630959],\n",
              "       [1.4612511],\n",
              "       [1.4609892],\n",
              "       [1.4641062],\n",
              "       [1.4709127],\n",
              "       [1.481424 ],\n",
              "       [1.4933118],\n",
              "       [1.5065584],\n",
              "       [1.522592 ],\n",
              "       [1.5374291],\n",
              "       [1.5497684],\n",
              "       [1.5603119],\n",
              "       [1.5718399],\n",
              "       [1.5620681],\n",
              "       [1.5263735],\n",
              "       [1.4741488],\n",
              "       [1.4239764],\n",
              "       [1.3876148],\n",
              "       [1.3655835],\n",
              "       [1.3543836],\n",
              "       [1.350157 ],\n",
              "       [1.3507826],\n",
              "       [1.348191 ],\n",
              "       [1.338706 ],\n",
              "       [1.3330958],\n",
              "       [1.3384612],\n",
              "       [1.3506728],\n",
              "       [1.3601347],\n",
              "       [1.3652503],\n",
              "       [1.3669801],\n",
              "       [1.364625 ],\n",
              "       [1.3578818],\n",
              "       [1.3486701],\n",
              "       [1.3358693],\n",
              "       [1.3215067],\n",
              "       [1.3054545],\n",
              "       [1.2767503],\n",
              "       [1.2405502],\n",
              "       [1.2027645],\n",
              "       [1.1700723],\n",
              "       [1.1505913],\n",
              "       [1.1485283],\n",
              "       [1.1609585],\n",
              "       [1.1814154],\n",
              "       [1.2056305],\n",
              "       [1.2285738],\n",
              "       [1.2481325],\n",
              "       [1.2649848],\n",
              "       [1.2785416],\n",
              "       [1.2898158],\n",
              "       [1.3006506],\n",
              "       [1.3095034],\n",
              "       [1.3096277],\n",
              "       [1.2992834],\n",
              "       [1.2810096],\n",
              "       [1.2605886],\n",
              "       [1.2457887],\n",
              "       [1.2417952],\n",
              "       [1.2497802],\n",
              "       [1.267883 ],\n",
              "       [1.287953 ],\n",
              "       [1.3058887],\n",
              "       [1.3222979],\n",
              "       [1.3372809],\n",
              "       [1.3499421],\n",
              "       [1.36028  ],\n",
              "       [1.3684492],\n",
              "       [1.3727357],\n",
              "       [1.3729465],\n",
              "       [1.36682  ],\n",
              "       [1.3572955],\n",
              "       [1.3489339],\n",
              "       [1.3421783],\n",
              "       [1.3360403],\n",
              "       [1.3535489],\n",
              "       [1.3936198],\n",
              "       [1.4416479],\n",
              "       [1.4825258],\n",
              "       [1.5071145],\n",
              "       [1.511674 ],\n",
              "       [1.4919006],\n",
              "       [1.4591439],\n",
              "       [1.4252616],\n",
              "       [1.404057 ],\n",
              "       [1.3951848],\n",
              "       [1.392606 ]], dtype=float32)"
            ]
          },
          "execution_count": 16,
          "metadata": {},
          "output_type": "execute_result"
        }
      ],
      "source": [
        "y_pred = model.predict(X_test)\n",
        "y_pred"
      ]
    },
    {
      "cell_type": "code",
      "execution_count": 17,
      "metadata": {
        "id": "vS5d2W4_Vxyq"
      },
      "outputs": [],
      "source": [
        "predicted_price = sc.inverse_transform(y_pred)"
      ]
    },
    {
      "cell_type": "code",
      "execution_count": 18,
      "metadata": {
        "colab": {
          "base_uri": "https://localhost:8080/",
          "height": 472
        },
        "id": "xEBvO7FsVxyr",
        "outputId": "541c7cb5-23d1-4681-ccbd-0596fc0ef136"
      },
      "outputs": [
        {
          "data": {
            "image/png": "[encoded data removed]",
            "text/plain": [
              "<Figure size 640x480 with 1 Axes>"
            ]
          },
          "metadata": {},
          "output_type": "display_data"
        }
      ],
      "source": [
        "plt.plot(y_test, color = 'red', label = 'Actual Stock Price')\n",
        "plt.plot(predicted_price, color = 'green', label = 'Predicted Stock Price')\n",
        "plt.title('Google stock price prediction')\n",
        "plt.xlabel('Time')\n",
        "plt.ylabel('Stock Price')\n",
        "plt.legend()\n",
        "plt.show()"
      ]
    }
  ],
  "metadata": {
    "colab": {
      "provenance": []
    },
    "kernelspec": {
      "display_name": "Python 3",
      "language": "python",
      "name": "python3"
    },
    "language_info": {
      "codemirror_mode": {
        "name": "ipython",
        "version": 3
      },
      "file_extension": ".py",
      "mimetype": "text/x-python",
      "name": "python",
      "nbconvert_exporter": "python",
      "pygments_lexer": "ipython3",
      "version": "3.11.8"
    }
  },
  "nbformat": 4,
  "nbformat_minor": 0
}
